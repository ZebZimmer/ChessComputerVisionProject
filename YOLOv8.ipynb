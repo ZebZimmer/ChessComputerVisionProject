{
 "cells": [
  {
   "cell_type": "code",
   "execution_count": null,
   "metadata": {},
   "outputs": [],
   "source": [
    "from ultralytics import YOLO\n",
    "import os"
   ]
  },
  {
   "cell_type": "code",
   "execution_count": null,
   "metadata": {},
   "outputs": [],
   "source": [
    "# Load the nano model\n",
    "model = YOLO('yolov8n.pt')"
   ]
  },
  {
   "cell_type": "code",
   "execution_count": null,
   "metadata": {},
   "outputs": [],
   "source": [
    "path_to_data = 'C:/Users/zebzi/Documents/School/Master_Year/CSCI 5525/Project/YOLOv8/'\n",
    "epoch = 10\n",
    "\n",
    "results = model.train(\n",
    "    mode='detect',\n",
    "    data=path_to_data + 'data.yaml',\n",
    "    imgsz=416,\n",
    "    epochs=epoch,\n",
    "    batch=8,\n",
    "    name=path_to_data + f'{epoch}_epochs_result'\n",
    ")"
   ]
  },
  {
   "cell_type": "code",
   "execution_count": null,
   "metadata": {},
   "outputs": [],
   "source": [
    "a = model.predict(\n",
    "    source = \"C:/Users/zebzi/Downloads/Chess Pieces.v24-416x416_aug.yolov8/train/images/ca869123d8a0cbcc6e54f4a445e5a78a_jpg.rf.5a9d4bcaf2ccf730c794bb7d57d77524.jpg\",\n",
    "    conf=0.25\n",
    ")\n",
    "\n",
    "# print(a[0])"
   ]
  },
  {
   "cell_type": "code",
   "execution_count": null,
   "metadata": {},
   "outputs": [],
   "source": [
    "%matplotlib inline\n",
    "import matplotlib.pyplot as plt\n",
    "plt.imshow(a[0].orig_img)\n",
    "plt.axis('off')  # Turn off axis numbers\n",
    "plt.show()\n",
    "\n",
    "print(a[0].boxes)\n"
   ]
  },
  {
   "cell_type": "code",
   "execution_count": null,
   "metadata": {},
   "outputs": [],
   "source": [
    "import cv2\n",
    "import numpy as np\n",
    "\n",
    "num_boxes = len(a[0].boxes.xywhn)\n",
    "image = a[0].orig_img\n",
    "copy_image = np.copy(image)\n",
    "\n",
    "plt.figure(figsize=(48, 24))\n",
    "\n",
    "for i in range(num_boxes):\n",
    "    bbox = a[0].boxes[i].xywhn\n",
    "    img_h, img_w = a[0].orig_shape\n",
    "\n",
    "    x_center, y_center, width, height = bbox[0][0], bbox[0][1], bbox[0][2], bbox[0][3]\n",
    "\n",
    "    x1 = int((x_center - width / 2) * img_w)\n",
    "    y1 = int((y_center - height / 2) * img_h)\n",
    "    x2 = int((x_center + width / 2) * img_w)\n",
    "    y2 = int((y_center + height / 2) * img_h)\n",
    "\n",
    "    cv2.rectangle(image, (x1, y1), (x2, y2), color=(255, 0, 0), thickness=2)\n",
    "\n",
    "    temp_image = np.copy(copy_image)\n",
    "    cv2.rectangle(temp_image, (x1, y1), (x2, y2), color=(255, 0, 0), thickness=2)\n",
    "\n",
    "    plt.subplot(1, num_boxes, i + 1)\n",
    "    cropped_image = temp_image[y1:y2, x1:x2]\n",
    "    plt.imshow(cv2.cvtColor(cropped_image, cv2.COLOR_BGR2RGB))\n",
    "    plt.axis('off')\n",
    "\n",
    "\n",
    "\n",
    "plt.subplot(1, num_boxes, 1)\n",
    "plt.imshow(cv2.cvtColor(image, cv2.COLOR_BGR2RGB))\n",
    "plt.axis('off')\n",
    "\n",
    "plt.show()"
   ]
  }
 ],
 "metadata": {
  "kernelspec": {
   "display_name": "Python 3",
   "language": "python",
   "name": "python3"
  },
  "language_info": {
   "codemirror_mode": {
    "name": "ipython",
    "version": 3
   },
   "file_extension": ".py",
   "mimetype": "text/x-python",
   "name": "python",
   "nbconvert_exporter": "python",
   "pygments_lexer": "ipython3",
   "version": "3.10.5"
  }
 },
 "nbformat": 4,
 "nbformat_minor": 2
}
